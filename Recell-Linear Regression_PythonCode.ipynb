{
 "cells": [
  {
   "cell_type": "markdown",
   "metadata": {
    "id": "2bqvTebCBjie"
   },
   "source": [
    "# Project Description"
   ]
  },
  {
   "cell_type": "markdown",
   "metadata": {
    "id": "BQoeuSrcBjig"
   },
   "source": [
    "## Context & Objective\n",
    "\n",
    "The second-hand phone business/industry is poised for significant growth in the near to medium future with the IDC (Internation Data Corporation) predicting a whooping \\$52.7bn by 2023 with a compound annual growth rate (CAGR) of 13.6% from 2018 to 2023.\n",
    "\n",
    "There are many advantages to using a used cell phone:  \n",
    "1. Significant cost savings with warranties\n",
    "2. Increases the life of the cell phone - Environmentally friendly \n",
    "\n",
    "ReCell is a start-up looking to take advantage of the potential boom in the industry and are looking to use ML to understand the dynamics.\n",
    "\n",
    "Build a linear regression model that predicts the price of a used phone and identify factors that significantly influence the price.  \n",
    "\n",
    "\n",
    "### Data Information:  \n",
    "brand_name: Name of manufacturing brand  \n",
    "os: OS on which the phone runs  \n",
    "screen_size: Size of the screen in cm  \n",
    "4g: Whether 4G is available or not  \n",
    "5g: Whether 5G is available or not  \n",
    "main_camera_mp: Resolution of the rear camera in megapixels  \n",
    "selfie_camera_mp: Resolution of the front camera in megapixels  \n",
    "int_memory: Amount of internal memory (ROM) in GB  \n",
    "ram: Amount of RAM in GB  \n",
    "battery: Energy capacity of the phone battery in mAh  \n",
    "weight: Weight of the phone in grams  \n",
    "release_year: Year when the phone model was released  \n",
    "days_used: Number of days the used/refurbished phone has been used  \n",
    "new_price: Price of a new phone of the same model in euros  \n",
    "used_price: Price of the used/refurbished phone in euros  "
   ]
  },
  {
   "cell_type": "markdown",
   "metadata": {
    "id": "FG98NcZMBjih"
   },
   "source": [
    "### 1. Import Libraries"
   ]
  },
  {
   "cell_type": "code",
   "execution_count": 4,
   "metadata": {},
   "outputs": [
    {
     "name": "stdout",
     "output_type": "stream",
     "text": [
      "Defaulting to user installation because normal site-packages is not writeable\n",
      "Collecting statsmodels\n",
      "  Downloading statsmodels-0.13.2-cp38-cp38-macosx_11_0_arm64.whl (9.1 MB)\n",
      "\u001b[2K     \u001b[90m━━━━━━━━━━━━━━━━━━━━━━━━━━━━━━━━━━━━━━━━\u001b[0m \u001b[32m9.1/9.1 MB\u001b[0m \u001b[31m23.7 MB/s\u001b[0m eta \u001b[36m0:00:00\u001b[0m00:01\u001b[0m00:01\u001b[0m\n",
      "\u001b[?25hRequirement already satisfied: numpy>=1.17 in /Users/duhlah/Library/Python/3.8/lib/python/site-packages (from statsmodels) (1.23.3)\n",
      "Requirement already satisfied: pandas>=0.25 in /Users/duhlah/Library/Python/3.8/lib/python/site-packages (from statsmodels) (1.5.0)\n",
      "Requirement already satisfied: scipy>=1.3 in /Users/duhlah/Library/Python/3.8/lib/python/site-packages (from statsmodels) (1.9.1)\n",
      "Collecting patsy>=0.5.2\n",
      "  Using cached patsy-0.5.2-py2.py3-none-any.whl (233 kB)\n",
      "Requirement already satisfied: packaging>=21.3 in /Users/duhlah/Library/Python/3.8/lib/python/site-packages (from statsmodels) (21.3)\n",
      "Requirement already satisfied: pyparsing!=3.0.5,>=2.0.2 in /Users/duhlah/Library/Python/3.8/lib/python/site-packages (from packaging>=21.3->statsmodels) (3.0.9)\n",
      "Requirement already satisfied: python-dateutil>=2.8.1 in /Users/duhlah/Library/Python/3.8/lib/python/site-packages (from pandas>=0.25->statsmodels) (2.8.2)\n",
      "Requirement already satisfied: pytz>=2020.1 in /Users/duhlah/Library/Python/3.8/lib/python/site-packages (from pandas>=0.25->statsmodels) (2022.2.1)\n",
      "Requirement already satisfied: six in /Library/Developer/CommandLineTools/Library/Frameworks/Python3.framework/Versions/3.8/lib/python3.8/site-packages (from patsy>=0.5.2->statsmodels) (1.15.0)\n",
      "Installing collected packages: patsy, statsmodels\n",
      "Successfully installed patsy-0.5.2 statsmodels-0.13.2\n",
      "Note: you may need to restart the kernel to use updated packages.\n"
     ]
    }
   ],
   "source": [
    "pip install statsmodels"
   ]
  },
  {
   "cell_type": "code",
   "execution_count": 1,
   "metadata": {
    "id": "MZA5D9sBBjii"
   },
   "outputs": [],
   "source": [
    "import pandas as pd \n",
    "import numpy as np \n",
    "\n",
    "#Visualization Libraries:\n",
    "import matplotlib.pyplot as plt \n",
    "%matplotlib inline \n",
    "import seaborn as sns \n",
    "\n",
    "#statistical and regression Libraries \n",
    "from sklearn.linear_model import LinearRegression\n",
    "from sklearn.model_selection import train_test_split # Sklearn package's randomized data splitting function\n",
    "from sklearn.metrics import mean_squared_error\n",
    "import statsmodels.api as sm\n",
    "from statsmodels.stats.outliers_influence import variance_inflation_factor\n",
    "import statsmodels.stats.diagnostic as sms\n",
    "\n",
    "pd.set_option('display.max_columns', None)\n",
    "# pd.set_option('display.max_rows', None)\n",
    "pd.set_option('display.max_rows', 200)\n",
    "\n",
    "\n",
    "import warnings\n",
    "warnings.filterwarnings('ignore')"
   ]
  }
 ],
 "metadata": {
  "colab": {
   "collapsed_sections": [],
   "name": "FINAL - 20211011-Recell-Project.ipynb",
   "provenance": []
  },
  "kernelspec": {
   "display_name": "Python 3.8.9 64-bit",
   "language": "python",
   "name": "python3"
  },
  "language_info": {
   "codemirror_mode": {
    "name": "ipython",
    "version": 3
   },
   "file_extension": ".py",
   "mimetype": "text/x-python",
   "name": "python",
   "nbconvert_exporter": "python",
   "pygments_lexer": "ipython3",
   "version": "3.8.9"
  },
  "vscode": {
   "interpreter": {
    "hash": "31f2aee4e71d21fbe5cf8b01ff0e069b9275f58929596ceb00d14d90e3e16cd6"
   }
  }
 },
 "nbformat": 4,
 "nbformat_minor": 4
}
