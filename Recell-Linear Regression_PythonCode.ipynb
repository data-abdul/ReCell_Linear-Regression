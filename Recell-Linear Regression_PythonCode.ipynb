{
 "cells": [
  {
   "cell_type": "markdown",
   "metadata": {
    "id": "2bqvTebCBjie"
   },
   "source": [
    "# Project Description"
   ]
  },
  {
   "cell_type": "markdown",
   "metadata": {
    "id": "BQoeuSrcBjig"
   },
   "source": [
    "## Context & Objective\n",
    "\n",
    "The second-hand phone business/industry is poised for significant growth in the near to medium future with the IDC (Internation Data Corporation) predicting a whooping \\$52.7bn by 2023 with a compound annual growth rate (CAGR) of 13.6% from 2018 to 2023.\n",
    "\n",
    "There are many advantages to using a used cell phone:  \n",
    "1. Significant cost savings with warranties\n",
    "2. Increases the life of the cell phone - Environmentally friendly \n",
    "\n",
    "ReCell is a start-up looking to take advantage of the potential boom in the industry and are looking to use ML to understand the dynamics.\n",
    "\n",
    "Build a linear regression model that predicts the price of a used phone and identify factors that significantly influence the price.  \n",
    "\n",
    "\n",
    "### Data Information:  \n",
    "brand_name: Name of manufacturing brand  \n",
    "os: OS on which the phone runs  \n",
    "screen_size: Size of the screen in cm  \n",
    "4g: Whether 4G is available or not  \n",
    "5g: Whether 5G is available or not  \n",
    "main_camera_mp: Resolution of the rear camera in megapixels  \n",
    "selfie_camera_mp: Resolution of the front camera in megapixels  \n",
    "int_memory: Amount of internal memory (ROM) in GB  \n",
    "ram: Amount of RAM in GB  \n",
    "battery: Energy capacity of the phone battery in mAh  \n",
    "weight: Weight of the phone in grams  \n",
    "release_year: Year when the phone model was released  \n",
    "days_used: Number of days the used/refurbished phone has been used  \n",
    "new_price: Price of a new phone of the same model in euros  \n",
    "used_price: Price of the used/refurbished phone in euros  "
   ]
  },
  {
   "cell_type": "markdown",
   "metadata": {
    "id": "FG98NcZMBjih"
   },
   "source": [
    "### 1. Import Libraries"
   ]
  },
  {
   "cell_type": "code",
   "execution_count": 1,
   "metadata": {
    "id": "MZA5D9sBBjii"
   },
   "outputs": [],
   "source": [
    "import pandas as pd \n",
    "import numpy as np \n",
    "\n",
    "#Visualization Libraries:\n",
    "import matplotlib.pyplot as plt \n",
    "%matplotlib inline \n",
    "import seaborn as sns \n",
    "\n",
    "#statistical and regression Libraries \n",
    "from sklearn.linear_model import LinearRegression\n",
    "from sklearn.model_selection import train_test_split # Sklearn package's randomized data splitting function\n",
    "from sklearn.metrics import mean_squared_error\n",
    "import statsmodels.api as sm\n",
    "from statsmodels.stats.outliers_influence import variance_inflation_factor\n",
    "import statsmodels.stats.diagnostic as sms\n",
    "\n",
    "pd.set_option('display.max_columns', None)\n",
    "# pd.set_option('display.max_rows', None)\n",
    "pd.set_option('display.max_rows', 200)\n",
    "\n",
    "\n",
    "import warnings\n",
    "warnings.filterwarnings('ignore')"
   ]
  }
 ],
 "metadata": {
  "colab": {
   "collapsed_sections": [],
   "name": "FINAL - 20211011-Recell-Project.ipynb",
   "provenance": []
  },
  "kernelspec": {
   "display_name": "Python 3.8.9 64-bit",
   "language": "python",
   "name": "python3"
  },
  "language_info": {
   "codemirror_mode": {
    "name": "ipython",
    "version": 3
   },
   "file_extension": ".py",
   "mimetype": "text/x-python",
   "name": "python",
   "nbconvert_exporter": "python",
   "pygments_lexer": "ipython3",
   "version": "3.8.9"
  },
  "vscode": {
   "interpreter": {
    "hash": "31f2aee4e71d21fbe5cf8b01ff0e069b9275f58929596ceb00d14d90e3e16cd6"
   }
  }
 },
 "nbformat": 4,
 "nbformat_minor": 4
}
